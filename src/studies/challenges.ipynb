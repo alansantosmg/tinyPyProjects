{
 "cells": [
  {
   "cell_type": "markdown",
   "metadata": {},
   "source": [
    "Challenges 20 a 24"
   ]
  },
  {
   "cell_type": "code",
   "execution_count": 4,
   "metadata": {},
   "outputs": [
    {
     "name": "stdout",
     "output_type": "stream",
     "text": [
      "alan tem 4 caracteres.\n"
     ]
    }
   ],
   "source": [
    "#ch 20\n",
    "username = input(str(\"Entre com seu nome: \" ))\n",
    "print(username, \"tem\", len(username), \"caracteres.\")"
   ]
  },
  {
   "cell_type": "code",
   "execution_count": 3,
   "metadata": {},
   "outputs": [
    {
     "name": "stdout",
     "output_type": "stream",
     "text": [
      "Nome: Alan \n",
      "Sobrenome: Santos\n",
      "Caracteres: 10\n"
     ]
    }
   ],
   "source": [
    "# ch 21\n",
    "first_name = input(str(\"Digite seu nome: \"))\n",
    "second_name = input(str(\"digite seu sobrenome: \"))\n",
    "name_size = len(first_name) + len(second_name)\n",
    "print(\"Nome:\", first_name,  \"\\nSobrenome:\", second_name)\n",
    "print(\"Caracteres:\", name_size)"
   ]
  },
  {
   "cell_type": "code",
   "execution_count": 7,
   "metadata": {},
   "outputs": [
    {
     "name": "stdout",
     "output_type": "stream",
     "text": [
      "Tamanho da canção:  24\n",
      "gato\n"
     ]
    }
   ],
   "source": [
    "# ch 23\n",
    "cancao_ninar = input(\"Digite a primeira linha de sua canção de ninar: \")\n",
    "print(\"Tamanho da canção: \", len(cancao_ninar))\n",
    "inicial = int(input(\"entre numero inicial: \"))\n",
    "final = int(input(\"Entre com número final: \"))\n",
    "print(cancao_ninar[inicial:final])"
   ]
  },
  {
   "cell_type": "code",
   "execution_count": 9,
   "metadata": {},
   "outputs": [
    {
     "name": "stdout",
     "output_type": "stream",
     "text": [
      "ALAN\n"
     ]
    }
   ],
   "source": [
    "# ch 24\n",
    "print(input(\"Digite seu nome: \").upper())"
   ]
  },
  {
   "cell_type": "code",
   "execution_count": 12,
   "metadata": {},
   "outputs": [
    {
     "name": "stdout",
     "output_type": "stream",
     "text": [
      "aaaaa\n"
     ]
    }
   ],
   "source": [
    "# ch 25\n",
    "first_name = input(\"Type your first name: \")\n",
    "if len(first_name) < 5:\n",
    "    surname = input(\"Enter your surname: \")\n",
    "    name = (first_name + surname).strip()\n",
    "    print(name.upper())\n",
    "else: \n",
    "    print(first_name.lower())\n"
   ]
  },
  {
   "cell_type": "code",
   "execution_count": 2,
   "metadata": {},
   "outputs": [
    {
     "data": {
      "text/plain": [
       "True"
      ]
     },
     "execution_count": 2,
     "metadata": {},
     "output_type": "execute_result"
    }
   ],
   "source": [
    "requested_toppings = ['mushrooms', 'onions', 'pineaple']\n",
    "'mushroons'not  in requested_toppings"
   ]
  },
  {
   "cell_type": "code",
   "execution_count": 3,
   "metadata": {},
   "outputs": [
    {
     "name": "stdout",
     "output_type": "stream",
     "text": [
      "Adding onions\n"
     ]
    }
   ],
   "source": [
    "requested_toppings = ['mushrooms', 'onions', 'pineaple']\n",
    "for requested_topping in requested_toppings:\n",
    "    if requested_topping == 'onions': \n",
    "        print(\"Adding \" + requested_topping)"
   ]
  },
  {
   "cell_type": "code",
   "execution_count": 1,
   "metadata": {},
   "outputs": [
    {
     "name": "stdout",
     "output_type": "stream",
     "text": [
      "24691.13355531047\n"
     ]
    }
   ],
   "source": [
    "# ch 27\n",
    "number = float(input(\"Enter a decimal number: \"))\n",
    "print(number *2)\n"
   ]
  },
  {
   "cell_type": "code",
   "execution_count": 5,
   "metadata": {},
   "outputs": [
    {
     "name": "stdout",
     "output_type": "stream",
     "text": [
      "47047068506.909\n"
     ]
    }
   ],
   "source": [
    "number = float(input(\"Enter a decimal number: \"))\n",
    "print(round((number *2),3))"
   ]
  },
  {
   "cell_type": "code",
   "execution_count": 7,
   "metadata": {},
   "outputs": [
    {
     "name": "stdout",
     "output_type": "stream",
     "text": [
      "3.141592653589793\n"
     ]
    }
   ],
   "source": [
    "from math import pi\n",
    "print(round((pi),15))"
   ]
  },
  {
   "cell_type": "code",
   "execution_count": 9,
   "metadata": {},
   "outputs": [
    {
     "name": "stdout",
     "output_type": "stream",
     "text": [
      "24.49\n"
     ]
    }
   ],
   "source": [
    "from math import sqrt\n",
    "number = int(input(\"Enter number over 500\"))\n",
    "print(round(sqrt(number),2))"
   ]
  },
  {
   "cell_type": "code",
   "execution_count": 10,
   "metadata": {},
   "outputs": [
    {
     "name": "stdout",
     "output_type": "stream",
     "text": [
      "314.1592653589793\n"
     ]
    }
   ],
   "source": [
    "from math import pi\n",
    "radius = float(input(\"Enter the radius of a circle: \"))\n",
    "area = pi * (radius**2)\n",
    "print(area)"
   ]
  },
  {
   "cell_type": "code",
   "execution_count": 12,
   "metadata": {},
   "outputs": [
    {
     "name": "stdout",
     "output_type": "stream",
     "text": [
      "Area: 314.16\n",
      "Volume 9424.78\n"
     ]
    }
   ],
   "source": [
    "from math import pi\n",
    "radius = float(input(\"Enter the radius of a cylinder: \"))\n",
    "depth = float(input(\"Enter the depth of the cylinder: \"))\n",
    "area = pi * (radius**2)\n",
    "volume = area * depth\n",
    "print(\"Area:\", round(area,2))\n",
    "print(\"Volume:\", round(volume,2))"
   ]
  },
  {
   "cell_type": "code",
   "execution_count": 13,
   "metadata": {},
   "outputs": [
    {
     "name": "stdout",
     "output_type": "stream",
     "text": [
      "7.0 divided by 2.0 is 3.0 with 1.0 remaining.\n"
     ]
    }
   ],
   "source": [
    "first_number= float(input(\"Enter a number: \"))\n",
    "second_number = float(input(\"Enter another number: \"))\n",
    "division = first_number // second_number\n",
    "rest = first_number % second_number\n",
    "print(first_number, \"divided by\", second_number, \"is\", division, \"with\", rest, \"remaining.\")"
   ]
  },
  {
   "cell_type": "code",
   "execution_count": 15,
   "metadata": {},
   "outputs": [
    {
     "name": "stdout",
     "output_type": "stream",
     "text": [
      "1) Square\n",
      "2) Triangle\n",
      "\n",
      "The area of the triangle is 5.0\n"
     ]
    }
   ],
   "source": [
    "print(\"1) Square\")\n",
    "print(\"2) Triangle\")\n",
    "print()\n",
    "option = int(input(\"Enter a number: \"))\n",
    "if option == 1: \n",
    "    side = float(input(\"Enter the side lenght: \"))\n",
    "    area = side**2\n",
    "    print(\"The area of the square is\", area)\n",
    "elif option == 2:\n",
    "    base = float(input(\"Enter the base lenght: \"))\n",
    "    height = float(input(\"Enter the height: \"))\n",
    "    area = (base*height)/2\n",
    "    print(\"The area of the triangle is\", area)\n",
    "else: \n",
    "    \"You choose a wrong option. Bye\"\n"
   ]
  },
  {
   "cell_type": "code",
   "execution_count": 17,
   "metadata": {},
   "outputs": [
    {
     "name": "stdout",
     "output_type": "stream",
     "text": [
      "Seu nome é Alan\n",
      "Seu nome é Alan\n",
      "Seu nome é Alan\n"
     ]
    }
   ],
   "source": [
    "name = input(\"Entre seu nome: \")\n",
    "for i in range(0,3):\n",
    "    print(\"Seu nome é\", name)"
   ]
  },
  {
   "cell_type": "code",
   "execution_count": 19,
   "metadata": {},
   "outputs": [
    {
     "name": "stdout",
     "output_type": "stream",
     "text": [
      "Seu nome é Alan\n",
      "Seu nome é Alan\n",
      "Seu nome é Alan\n",
      "Seu nome é Alan\n",
      "Seu nome é Alan\n"
     ]
    }
   ],
   "source": [
    "name = input(\"Entre seu nome: \")\n",
    "number_of_times = int(input(\"Digite a quantidade de vezes: \"))\n",
    "for i in range(0,number_of_times):\n",
    "    print(\"Seu nome é\", name)"
   ]
  },
  {
   "cell_type": "code",
   "execution_count": null,
   "metadata": {},
   "outputs": [],
   "source": []
  },
  {
   "cell_type": "code",
   "execution_count": 21,
   "metadata": {},
   "outputs": [
    {
     "name": "stdout",
     "output_type": "stream",
     "text": [
      "a\n",
      "l\n",
      "a\n",
      "n\n"
     ]
    }
   ],
   "source": [
    "name = input(\"Entre seu nome: \")\n",
    "for i in range(0,len(name)):\n",
    "    print(name[i])"
   ]
  },
  {
   "cell_type": "code",
   "execution_count": 31,
   "metadata": {},
   "outputs": [
    {
     "name": "stdout",
     "output_type": "stream",
     "text": [
      "a\n",
      "l\n",
      "a\n",
      "n\n",
      "\n",
      "a\n",
      "l\n",
      "a\n",
      "n\n",
      "\n",
      "a\n",
      "l\n",
      "a\n",
      "n\n",
      "\n",
      "a\n",
      "l\n",
      "a\n",
      "n\n",
      "\n"
     ]
    }
   ],
   "source": [
    "number_of_times = int(input(\"Digite a quantidade de vezes: \"))\n",
    "name = input(\"Entre seu nome: \")\n",
    "for x in range(0,number_of_times):\n",
    "    for i in name:\n",
    "        print(i)\n",
    "    print()\n",
    "        "
   ]
  },
  {
   "cell_type": "code",
   "execution_count": 59,
   "metadata": {},
   "outputs": [
    {
     "name": "stdout",
     "output_type": "stream",
     "text": [
      "1 x 0 = 0\n",
      "1 x 1 = 1\n",
      "1 x 2 = 2\n",
      "1 x 3 = 3\n",
      "1 x 4 = 4\n",
      "1 x 5 = 5\n",
      "1 x 6 = 6\n",
      "1 x 7 = 7\n",
      "1 x 8 = 8\n",
      "1 x 9 = 9\n",
      "1 x 10 = 10\n"
     ]
    }
   ],
   "source": [
    "number = int(input(\"Enter a number between 1 and 12: \"))\n",
    "for i in range(0,11):\n",
    "    print(number, \"x\", i, \"=\", number*i )\n",
    "\n",
    "\n"
   ]
  },
  {
   "cell_type": "code",
   "execution_count": 43,
   "metadata": {},
   "outputs": [
    {
     "name": "stdout",
     "output_type": "stream",
     "text": [
      "50\n",
      "49\n",
      "48\n"
     ]
    }
   ],
   "source": [
    "#ch 40\n",
    "\n",
    "number = int(input(\"enter a number below 50: \"))\n",
    "for i in range(50,number-1,-1):\n",
    "    print(i)"
   ]
  },
  {
   "cell_type": "code",
   "execution_count": 49,
   "metadata": {},
   "outputs": [
    {
     "name": "stdout",
     "output_type": "stream",
     "text": [
      "green\n",
      "5\n",
      "{'color': 'green', 'points': '5', 'x_position': 0, 'y_position': 25}\n",
      "A cor do alien agora é red .\n"
     ]
    }
   ],
   "source": [
    "# pg 113\n",
    "alien_0 = {'color':'green', 'points':'5'}\n",
    "print(alien_0['color'])\n",
    "print(alien_0['points'])\n",
    "alien_0['x_position'] = 0\n",
    "alien_0['y_position'] = 25\n",
    "print(alien_0)\n",
    "alien_0['color'] = 'red'\n",
    "print(\"A cor do alien agora é\", alien_0['color'], \".\")\n"
   ]
  },
  {
   "cell_type": "code",
   "execution_count": 53,
   "metadata": {},
   "outputs": [
    {
     "name": "stdout",
     "output_type": "stream",
     "text": [
      "Too high\n",
      "Too high\n",
      "Too high\n"
     ]
    }
   ],
   "source": [
    "# ch 41\n",
    "username = (input(\"Enter your name: \"))\n",
    "number = int(input(\"Enter a number: \"))\n",
    "if number < 10:\n",
    "    for _ in range(0,number):\n",
    "        print(\"Seu nome é:\", name)\n",
    "else: \n",
    "    for _ in range(0,3): \n",
    "        print(\"Too high\")\n"
   ]
  },
  {
   "cell_type": "code",
   "execution_count": 63,
   "metadata": {},
   "outputs": [
    {
     "name": "stdout",
     "output_type": "stream",
     "text": [
      "Total is  15.0\n"
     ]
    }
   ],
   "source": [
    "#ch 42\n",
    "total = 0\n",
    "positive_response = [\"y\", \"yes\", \"yep\", \"ye\", \"sim\", \"s\", \"i\"]\n",
    "for _ in range(0,5):\n",
    "    number = float(input(\"Enter a number: \"))\n",
    "    include_number = input(\"Do you want to include number? (y/n): \")\n",
    "    if include_number in positive_response:\n",
    "      total+= number\n",
    "print(\"Total is \", total)\n",
    "    \n"
   ]
  },
  {
   "cell_type": "code",
   "execution_count": 65,
   "metadata": {},
   "outputs": [
    {
     "name": "stdout",
     "output_type": "stream",
     "text": [
      "Original x-position: 0\n",
      "New x-position:2\n"
     ]
    }
   ],
   "source": [
    "alien_0 = {'x_position': 0, 'y_position': 25,'speed': 'medium', 'points': 5}\n",
    "print(\"Original x-position: \" + str(alien_0['x_position']))\n",
    "\n",
    "# move o alienigena para a direita\n",
    "# determina a distancia que o alienigena deve deslocar de acordo com sua\n",
    "# velocidade atual\n",
    "\n",
    "if alien_0['speed'] == 'slow': \n",
    "    x_increment = 1\n",
    "elif alien_0['speed'] == 'medium': \n",
    "    x_increment = 2\n",
    "else:\n",
    "    x_increment = 3\n",
    "\n",
    "# a nova posicao somada ao incremento\n",
    "\n",
    "alien_0['x_position'] = alien_0['x_position'] + x_increment\n",
    "print(\"New x-position:\" + str(alien_0['x_position']))\n",
    "\n",
    "# remove os pontos do alienigena\n",
    "del alien_0['points']"
   ]
  },
  {
   "cell_type": "code",
   "execution_count": 70,
   "metadata": {},
   "outputs": [
    {
     "name": "stdout",
     "output_type": "stream",
     "text": [
      "Key:username\n",
      "Value:efermi\n",
      "Key:first\n",
      "Value:enrico\n",
      "Key:last\n",
      "Value:fermi\n"
     ]
    }
   ],
   "source": [
    "user_0 = {'username': 'efermi', 'first': 'enrico', 'last': 'fermi'}\n",
    "for x, y in user_0.items():\n",
    "    print(\"Key:\" + x)\n",
    "    print(\"Value:\" + y)"
   ]
  },
  {
   "cell_type": "code",
   "execution_count": 80,
   "metadata": {},
   "outputs": [
    {
     "name": "stdout",
     "output_type": "stream",
     "text": [
      "enrico\n",
      "fermi\n",
      "efermi\n"
     ]
    }
   ],
   "source": [
    "user_0 = {'username': 'efermi', 'first': 'enrico', 'last':'fermi','name':'fermi'}\n",
    "for user in sorted(user_0):\n",
    "    print(user_0[user])\n"
   ]
  },
  {
   "cell_type": "code",
   "execution_count": 81,
   "metadata": {},
   "outputs": [
    {
     "ename": "KeyError",
     "evalue": "'efermi'",
     "output_type": "error",
     "traceback": [
      "\u001b[0;31m---------------------------------------------------------------------------\u001b[0m",
      "\u001b[0;31mKeyError\u001b[0m                                  Traceback (most recent call last)",
      "\u001b[1;32m/home/alan/github.com/alansantosmg/tinyPyProjects/src/studies/challenges.ipynb Cell 30'\u001b[0m in \u001b[0;36m<module>\u001b[0;34m\u001b[0m\n\u001b[1;32m      <a href='vscode-notebook-cell://wsl%2Bubuntu-20.04/home/alan/github.com/alansantosmg/tinyPyProjects/src/studies/challenges.ipynb#ch0000031vscode-remote?line=0'>1</a>\u001b[0m user_0 \u001b[39m=\u001b[39m {\u001b[39m'\u001b[39m\u001b[39musername\u001b[39m\u001b[39m'\u001b[39m: \u001b[39m'\u001b[39m\u001b[39mefermi\u001b[39m\u001b[39m'\u001b[39m, \u001b[39m'\u001b[39m\u001b[39mfirst\u001b[39m\u001b[39m'\u001b[39m: \u001b[39m'\u001b[39m\u001b[39menrico\u001b[39m\u001b[39m'\u001b[39m, \u001b[39m'\u001b[39m\u001b[39mlast\u001b[39m\u001b[39m'\u001b[39m:\u001b[39m'\u001b[39m\u001b[39mfermi\u001b[39m\u001b[39m'\u001b[39m,\u001b[39m'\u001b[39m\u001b[39mname\u001b[39m\u001b[39m'\u001b[39m:\u001b[39m'\u001b[39m\u001b[39mfermi\u001b[39m\u001b[39m'\u001b[39m}\n\u001b[1;32m      <a href='vscode-notebook-cell://wsl%2Bubuntu-20.04/home/alan/github.com/alansantosmg/tinyPyProjects/src/studies/challenges.ipynb#ch0000031vscode-remote?line=1'>2</a>\u001b[0m \u001b[39mfor\u001b[39;00m user \u001b[39min\u001b[39;00m \u001b[39msorted\u001b[39m(user_0\u001b[39m.\u001b[39mvalues()):\n\u001b[0;32m----> <a href='vscode-notebook-cell://wsl%2Bubuntu-20.04/home/alan/github.com/alansantosmg/tinyPyProjects/src/studies/challenges.ipynb#ch0000031vscode-remote?line=2'>3</a>\u001b[0m     \u001b[39mprint\u001b[39m(user_0[user])\n",
      "\u001b[0;31mKeyError\u001b[0m: 'efermi'"
     ]
    }
   ],
   "source": [
    "user_0 = {'username': 'efermi', 'first': 'enrico', 'last':'fermi','name':'fermi'}\n",
    "for user in sorted(set(user_0)):\n",
    "    print(user_0[user])"
   ]
  }
 ],
 "metadata": {
  "interpreter": {
   "hash": "916dbcbb3f70747c44a77c7bcd40155683ae19c65e1c03b4aa3499c5328201f1"
  },
  "kernelspec": {
   "display_name": "Python 3.8.10 64-bit",
   "language": "python",
   "name": "python3"
  },
  "language_info": {
   "codemirror_mode": {
    "name": "ipython",
    "version": 3
   },
   "file_extension": ".py",
   "mimetype": "text/x-python",
   "name": "python",
   "nbconvert_exporter": "python",
   "pygments_lexer": "ipython3",
   "version": "3.8.10"
  },
  "orig_nbformat": 4
 },
 "nbformat": 4,
 "nbformat_minor": 2
}
