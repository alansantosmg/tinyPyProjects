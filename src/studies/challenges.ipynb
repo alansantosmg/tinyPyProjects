{
 "cells": [
  {
   "cell_type": "markdown",
   "metadata": {},
   "source": [
    "Challenges 20 a 24"
   ]
  },
  {
   "cell_type": "markdown",
   "metadata": {},
   "source": [
    "## Multiple line strings"
   ]
  },
  {
   "cell_type": "code",
   "execution_count": null,
   "metadata": {},
   "outputs": [],
   "source": [
    "#ch 20\n",
    "username = input(str(\"Entre com seu nome: \" ))\n",
    "print(username, \"tem\", len(username), \"caracteres.\")"
   ]
  },
  {
   "cell_type": "code",
   "execution_count": null,
   "metadata": {},
   "outputs": [],
   "source": [
    "# ch 21\n",
    "first_name = input(str(\"Digite seu nome: \"))\n",
    "second_name = input(str(\"digite seu sobrenome: \"))\n",
    "name_size = len(first_name) + len(second_name)\n",
    "print(\"Nome:\", first_name,  \"\\nSobrenome:\", second_name)\n",
    "print(\"Caracteres:\", name_size)"
   ]
  },
  {
   "cell_type": "code",
   "execution_count": null,
   "metadata": {},
   "outputs": [],
   "source": [
    "# ch 23\n",
    "cancao_ninar = input(\"Digite a primeira linha de sua canção de ninar: \")\n",
    "print(\"Tamanho da canção: \", len(cancao_ninar))\n",
    "inicial = int(input(\"entre numero inicial: \"))\n",
    "final = int(input(\"Entre com número final: \"))\n",
    "print(cancao_ninar[inicial:final])"
   ]
  },
  {
   "cell_type": "code",
   "execution_count": null,
   "metadata": {},
   "outputs": [],
   "source": [
    "# ch 24\n",
    "print(input(\"Digite seu nome: \").upper())"
   ]
  },
  {
   "cell_type": "code",
   "execution_count": null,
   "metadata": {},
   "outputs": [],
   "source": [
    "# ch 25\n",
    "first_name = input(\"Type your first name: \")\n",
    "if len(first_name) < 5:\n",
    "    surname = input(\"Enter your surname: \")\n",
    "    name = (first_name + surname).strip()\n",
    "    print(name.upper())\n",
    "else: \n",
    "    print(first_name.lower())\n"
   ]
  },
  {
   "cell_type": "code",
   "execution_count": null,
   "metadata": {},
   "outputs": [],
   "source": [
    "pets = ['dog','cat','bird','zof','cat', 'rabbit', 'cat']\n",
    "while 'cat' in pets:\n",
    "    pets.remove('cat')\n",
    "print(pets)\n"
   ]
  },
  {
   "cell_type": "markdown",
   "metadata": {},
   "source": [
    "## Maths"
   ]
  },
  {
   "cell_type": "code",
   "execution_count": null,
   "metadata": {},
   "outputs": [],
   "source": [
    "# ch 27\n",
    "number = float(input(\"Enter a decimal number: \"))\n",
    "print(number *2)\n"
   ]
  },
  {
   "cell_type": "code",
   "execution_count": null,
   "metadata": {},
   "outputs": [],
   "source": [
    "# ch 28\n",
    "number = float(input(\"Enter a decimal number: \"))\n",
    "print(round((number *2),3))"
   ]
  },
  {
   "cell_type": "code",
   "execution_count": null,
   "metadata": {},
   "outputs": [],
   "source": [
    "# 30\n",
    "from math import pi\n",
    "print(round((pi),15))"
   ]
  },
  {
   "cell_type": "code",
   "execution_count": null,
   "metadata": {},
   "outputs": [],
   "source": [
    "# ch 29\n",
    "from math import sqrt\n",
    "number = int(input(\"Enter number over 500\"))\n",
    "print(round(sqrt(number),2))"
   ]
  },
  {
   "cell_type": "code",
   "execution_count": null,
   "metadata": {},
   "outputs": [],
   "source": [
    "# ch 31\n",
    "from math import pi\n",
    "radius = float(input(\"Enter the radius of a circle: \"))\n",
    "area = pi * (radius**2)\n",
    "print(area)"
   ]
  },
  {
   "cell_type": "code",
   "execution_count": null,
   "metadata": {},
   "outputs": [],
   "source": [
    "# ch 32\n",
    "from math import pi\n",
    "radius = float(input(\"Enter the radius of a cylinder: \"))\n",
    "depth = float(input(\"Enter the depth of the cylinder: \"))\n",
    "area = pi * (radius**2)\n",
    "volume = area * depth\n",
    "print(\"Area:\", round(area,2))\n",
    "print(\"Volume:\", round(volume,2))"
   ]
  },
  {
   "cell_type": "code",
   "execution_count": null,
   "metadata": {},
   "outputs": [],
   "source": [
    "# ch 33\n",
    "first_number= float(input(\"Enter a number: \"))\n",
    "second_number = float(input(\"Enter another number: \"))\n",
    "division = first_number // second_number\n",
    "rest = first_number % second_number\n",
    "print(first_number, \"divided by\", second_number, \"is\", division, \"with\", rest, \"remaining.\")"
   ]
  },
  {
   "cell_type": "code",
   "execution_count": null,
   "metadata": {},
   "outputs": [],
   "source": [
    "# ch 34\n",
    "\n",
    "print(\"1) Square\")\n",
    "print(\"2) Triangle\")\n",
    "print()\n",
    "option = int(input(\"Enter a number: \"))\n",
    "if option == 1: \n",
    "    side = float(input(\"Enter the side lenght: \"))\n",
    "    area = side**2\n",
    "    print(\"The area of the square is\", area)\n",
    "elif option == 2:\n",
    "    base = float(input(\"Enter the base lenght: \"))\n",
    "    height = float(input(\"Enter the height: \"))\n",
    "    area = (base*height)/2\n",
    "    print(\"The area of the triangle is\", area)\n",
    "else: \n",
    "    \"You choose a wrong option. Bye\"\n"
   ]
  },
  {
   "cell_type": "markdown",
   "metadata": {},
   "source": [
    "## For loops"
   ]
  },
  {
   "cell_type": "code",
   "execution_count": null,
   "metadata": {},
   "outputs": [],
   "source": [
    "# ch 35\n",
    "name = input(\"Entre seu nome: \")\n",
    "for i in range(0,3):\n",
    "    print(\"Seu nome é\", name)"
   ]
  },
  {
   "cell_type": "code",
   "execution_count": null,
   "metadata": {},
   "outputs": [],
   "source": [
    "# ch 36\n",
    "name = input(\"Entre seu nome: \")\n",
    "number_of_times = int(input(\"Digite a quantidade de vezes: \"))\n",
    "for i in range(0,number_of_times):\n",
    "    print(\"Seu nome é\", name)"
   ]
  },
  {
   "cell_type": "code",
   "execution_count": null,
   "metadata": {},
   "outputs": [],
   "source": []
  },
  {
   "cell_type": "code",
   "execution_count": null,
   "metadata": {},
   "outputs": [],
   "source": [
    "# ch 37\n",
    "name = input(\"Entre seu nome: \")\n",
    "for i in range(0,len(name)):\n",
    "    print(name[i])"
   ]
  },
  {
   "cell_type": "code",
   "execution_count": null,
   "metadata": {},
   "outputs": [],
   "source": [
    "# ch 38\n",
    "number_of_times = int(input(\"Digite a quantidade de vezes: \"))\n",
    "name = input(\"Entre seu nome: \")\n",
    "for x in range(0,number_of_times):\n",
    "    for i in name:\n",
    "        print(i)\n",
    "    print()\n",
    "        "
   ]
  },
  {
   "cell_type": "code",
   "execution_count": null,
   "metadata": {},
   "outputs": [],
   "source": [
    "# ch 39\n",
    "number = int(input(\"Enter a number between 1 and 12: \"))\n",
    "for i in range(0,11):\n",
    "    print(number, \"x\", i, \"=\", number*i )\n",
    "\n",
    "\n"
   ]
  },
  {
   "cell_type": "code",
   "execution_count": null,
   "metadata": {},
   "outputs": [],
   "source": [
    "#ch 40\n",
    "# contagem decrescente com for\n",
    "number = int(input(\"enter a number below 50: \"))\n",
    "for i in range(50,number-1,-1):\n",
    "    print(i)"
   ]
  },
  {
   "cell_type": "code",
   "execution_count": null,
   "metadata": {},
   "outputs": [],
   "source": [
    "# ch 41\n",
    "username = (input(\"Enter your name: \"))\n",
    "number = int(input(\"Enter a number: \"))\n",
    "if number < 10:\n",
    "    for _ in range(0,number):\n",
    "        print(\"Seu nome é:\", name)\n",
    "else: \n",
    "    for _ in range(0,3): \n",
    "        print(\"Too high\")\n"
   ]
  },
  {
   "cell_type": "code",
   "execution_count": null,
   "metadata": {},
   "outputs": [],
   "source": [
    "# ch 42\n",
    "total = 0\n",
    "positive_response = [\"y\", \"yes\", \"yep\", \"ye\", \"sim\", \"s\", \"i\"]\n",
    "for _ in range(0,5):\n",
    "    number = float(input(\"Enter a number: \"))\n",
    "    include_number = input(\"Do you want to include number? (y/n): \")\n",
    "    if include_number in positive_response:\n",
    "      total+= number\n",
    "print(\"Total is \", total)\n",
    "    \n"
   ]
  },
  {
   "cell_type": "code",
   "execution_count": null,
   "metadata": {},
   "outputs": [],
   "source": [
    "# ch 43\n",
    "\n",
    "prompt = \"Are you going up our down?\"\n",
    "direction = input(prompt)\n",
    "if direction == 'up':\n",
    "    prompt = \"Enter a top number\"\n",
    "    number = int(input(number))\n",
    "    for count in range(1,number+1):\n",
    "        print(count)\n",
    "elif direction == 'down':\n",
    "    prompt = \"Enter a number below 20\"\n",
    "    number = int(input(number))\n",
    "    for count in range(20,number-1,-1):\n",
    "        print(count)\n",
    "else:\n",
    "    print(\"I don't understand.\")\n",
    "\n",
    "\n"
   ]
  },
  {
   "cell_type": "code",
   "execution_count": null,
   "metadata": {},
   "outputs": [],
   "source": [
    "# ch 44\n",
    "prompt = \"How many people do you want to invite do the party?\"\n",
    "people_to_invite = int(input(prompt))\n",
    "if people_to_invite < 10:\n",
    "    for _ in range(1,10):\n",
    "        name = input(\"Enter de name to be invited: \")\n",
    "        print(name + \" invited!\")\n",
    "else:\n",
    "    print(\"Too many people.\")\n"
   ]
  },
  {
   "cell_type": "markdown",
   "metadata": {},
   "source": [
    "## While loops"
   ]
  },
  {
   "cell_type": "code",
   "execution_count": null,
   "metadata": {},
   "outputs": [],
   "source": [
    "# ch 45\n",
    "\n",
    "total = 0\n",
    "while total <= 50:\n",
    "    number = float(input(\"Enter a number: \"))\n",
    "    total += number\n",
    "    print(\"The total is:\",  total)"
   ]
  },
  {
   "cell_type": "code",
   "execution_count": null,
   "metadata": {},
   "outputs": [],
   "source": [
    "# ch 46\n",
    "number = 0\n",
    "while number <= 5 : \n",
    "    number = float(input(\"Enter a number: \"))\n",
    "print(\"The last number you enter is:\", number)"
   ]
  },
  {
   "cell_type": "code",
   "execution_count": null,
   "metadata": {},
   "outputs": [],
   "source": [
    "# ch 47\n",
    "number = 0\n",
    "add_more = 'y'\n",
    "while add_more == 'y': \n",
    "    number += float(input(\"Add a number:\"))\n",
    "    add_more = input(\"Add another? (y/n): \")\n",
    "print(number)"
   ]
  },
  {
   "cell_type": "code",
   "execution_count": null,
   "metadata": {},
   "outputs": [],
   "source": [
    "# ch 48 \n",
    "\n",
    "response_new_invite = ['no', 'not', 'n','nt','não','nao','yes','y','s','sim']\n",
    "flag_loop = True\n",
    "count_invited = 0\n",
    "while flag_loop: \n",
    "    prompt = \"Quem gostaria de convidar para a festa?\"\n",
    "    person_invited = input(prompt)\n",
    "    count_invited += 1\n",
    "    prompt = \"Gostaria de convidar mais alguém? (y/n)\"\n",
    "    response = input(prompt)\n",
    "    if response in  response_new_invite[:6]:\n",
    "        flag_loop = False\n",
    "print(count_invited)\n",
    "        \n"
   ]
  },
  {
   "cell_type": "code",
   "execution_count": null,
   "metadata": {},
   "outputs": [],
   "source": [
    "# ch 49 - jogo de adivinhação de números\n",
    "\n",
    "loop_flag = True\n",
    "compnun = 50\n",
    "attempts = 0\n",
    "while loop_flag: \n",
    "    prompt = 'Enter a number'\n",
    "    number = int(input(prompt))\n",
    "    attempts += 1\n",
    "    if number > compnun: \n",
    "        print(\"Muito alto\")\n",
    "    elif number < compnun:\n",
    "        print(\"Muito baixo\")\n",
    "    else: \n",
    "        loop_flag = False\n",
    "print(\"Parabéns! Você acertou depois de\", attempts, \"tentativas!\")\n"
   ]
  },
  {
   "cell_type": "code",
   "execution_count": null,
   "metadata": {},
   "outputs": [],
   "source": [
    "# ch 50 \n",
    "\n",
    "loop_flag = True\n",
    "prompt = \"Entre um número entre 10 e 20\"\n",
    "\n",
    "while loop_flag:\n",
    "\n",
    "    number = int(input(prompt))\n",
    "    if number < 10:\n",
    "        print(\"Muito baixo.\")\n",
    "    elif number > 20:\n",
    "        print(\"Muito alto.\")\n",
    "    else:\n",
    "        loop_flag = False \n",
    "        \n",
    "print(\"Obrigado!\") \n",
    "\n"
   ]
  },
  {
   "cell_type": "code",
   "execution_count": null,
   "metadata": {},
   "outputs": [],
   "source": [
    "# ch 51 - Jogo de adivinhação da música das garrafas\n",
    "# Programado para ser mais interessante que o do livro.\n",
    "\n",
    "print(\"\\nThere are [num] green bottles hanging on the wall, \" \n",
    "+ \"\\n[num] green bottles hanging on the wall, \" \n",
    "+ \"\\nand if 1 green bottle should accidentaly fall...z\\n\")\n",
    "\n",
    "question = \"How many green bottles will be hanging on the wall?\"\n",
    "\n",
    "num = 10\n",
    "\n",
    "while num > 0: \n",
    "\n",
    "    response = int(input(question))\n",
    "    \n",
    "    # se uma garrafa cair sempre haverá uma garrafa a menos\n",
    "    if response != num-1:\n",
    "        \n",
    "        # mas se todas garrafas tiverem caído não haverá mais nenhuma\n",
    "        if num == 0:\n",
    "            print(\"There are no more green bootles hanging on the wall\")\n",
    "        \n",
    "        # cada vez que errar o numero de garrafas que sobram quando \n",
    "        # uma garrafa cair, mais uma garrafa cairá. \n",
    "        else:\n",
    "            num = num -1\n",
    "            \n",
    "            print(\"No! Try again.\")     \n",
    "    else:\n",
    "        print(\"There will be\", num-1, \"green bottles hanging on the wall.\" )\n",
    "        num = 0"
   ]
  },
  {
   "cell_type": "markdown",
   "metadata": {},
   "source": [
    "# Random"
   ]
  },
  {
   "cell_type": "code",
   "execution_count": null,
   "metadata": {},
   "outputs": [],
   "source": [
    "# ch 52\n",
    "\n",
    "import random\n",
    "number = random.randint(1,100)\n",
    "print(number)"
   ]
  },
  {
   "cell_type": "code",
   "execution_count": null,
   "metadata": {},
   "outputs": [],
   "source": [
    "# ch 53\n",
    "\n",
    "import random\n",
    "fruta = random.choice(['maça','banana','laranja'])\n",
    "print(fruta)"
   ]
  },
  {
   "cell_type": "code",
   "execution_count": null,
   "metadata": {},
   "outputs": [],
   "source": [
    "# ch 54\n",
    "\n",
    "import random\n",
    "opcao_computador = random.choice(['h','t'])\n",
    "prompt = \"Faça sua escolha\"\n",
    "\n",
    "print(\"Jogo da cabeça ou calda (head x tail)\")\n",
    "print(\"=====================================\\n\")\n",
    "print(\"Escolha H para head ou T para Tail:\")\n",
    "opcao_usuario = (input(prompt)).lower()\n",
    "\n",
    "if opcao_usuario == opcao_computador:\n",
    "    print(\"\\nVocê ganhou!\")\n",
    "else:\n",
    "    print(\"\\nPerdeu playboy!\")\n",
    "print(f\"O computador selecionou {opcao_computador}.\")\n"
   ]
  },
  {
   "cell_type": "code",
   "execution_count": null,
   "metadata": {},
   "outputs": [],
   "source": [
    "# ch 55\n",
    "\n",
    "import random\n",
    "\n",
    "number = random.randint(1,5)\n",
    "print(number)\n",
    "\n",
    "prompt = \"Escolha um número entre 1 e 5: \"\n",
    "\n",
    "\n",
    "loop_flag = True\n",
    "while loop_flag:\n",
    "    escolha_usuario = (input(prompt))\n",
    "\n",
    "    if int(escolha_usuario) > 5 or int(escolha_usuario) < 1: \n",
    "        print(\"O número tem que ser entre 1 e 5! Escolha novamente: \")\n",
    "    else: \n",
    "        if number == escolha_usuario: \n",
    "            print(\"\\nVocê ganhou!\")\n",
    "        elif int(escolha_usuario) < number: \n",
    "            print(\"\\nNúmero muito baixo!\\n\")\n",
    "        elif int(escolha_usuario) > number:\n",
    "            print(\"\\nNúmero muito alto!\\n\")\n",
    "    if escolha_usuario == 'q': loop_flag = False\n",
    "print(\"\\nFim de jogo. Até a próxima!\")\n",
    "\n",
    "\n",
    "2\n"
   ]
  },
  {
   "cell_type": "code",
   "execution_count": null,
   "metadata": {},
   "outputs": [],
   "source": [
    "# ch 69\n",
    "\n",
    "# buscar indice de uma tupla baseado em seu valor. \n",
    "\n",
    "paises = ('brazil', 'italia','françaa','canada','ucrania')\n",
    "print(paises)\n",
    "escolha = input(\"Entre com nome do pais: \")\n",
    "print(paises.index(escolha))"
   ]
  },
  {
   "cell_type": "code",
   "execution_count": null,
   "metadata": {},
   "outputs": [],
   "source": [
    "# ch 70\n",
    "\n",
    "paises = ('brazil', 'italia','françaa','canada','ucrania')\n",
    "escolha = int(input(\"Entre indice do pais: \"))\n",
    "print(paises[escolha].title())"
   ]
  },
  {
   "cell_type": "code",
   "execution_count": 1,
   "metadata": {},
   "outputs": [
    {
     "name": "stdout",
     "output_type": "stream",
     "text": [
      "['voley', 'futebol', 'baseball']\n"
     ]
    }
   ],
   "source": [
    "sports = ['voley', 'futebol']\n",
    "prompt = \"Qual seu esporte favorito?\"\n",
    "choice = input(prompt)\n",
    "sports.append(choice)\n",
    "print(sports)"
   ]
  },
  {
   "cell_type": "code",
   "execution_count": 2,
   "metadata": {},
   "outputs": [
    {
     "name": "stdout",
     "output_type": "stream",
     "text": [
      "['matematica', 'fisica', 'portugues', 'história']\n",
      "['fisica', 'portugues', 'história']\n"
     ]
    }
   ],
   "source": [
    "# ch 72\n",
    "\n",
    "school_subjects = ['matematica', 'fisica', 'portugues', 'história']\n",
    "print(school_subjects)\n",
    "prompt = \"Qual dessas matérias você não curte?\"\n",
    "subject = input(prompt)\n",
    "# no caso do remove precisa verificar se item existe na lista\n",
    "if subject in school_subjects:\n",
    "    school_subjects.remove(subject)\n",
    "print(school_subjects)"
   ]
  },
  {
   "cell_type": "code",
   "execution_count": null,
   "metadata": {},
   "outputs": [],
   "source": [
    "# ch 72 solução alternativa\n",
    "\n",
    "# se o usar o pop() ao invés de del, além de excluir retorna o valor \n",
    "# do índice que foi excluido. \n",
    "\n",
    "school_subjects = ['matematica', 'fisica', 'portugues', 'história']\n",
    "print(school_subjects)\n",
    "prompt = \"Qual dessas matérias você não curte?\"\n",
    "subject = input(prompt)\n",
    "excluir = school_subjects.index(subject)\n",
    "del school_subjects[excluir]\n",
    "print(school_subjects)\n",
    "\n",
    "\n",
    "\n"
   ]
  },
  {
   "cell_type": "code",
   "execution_count": 21,
   "metadata": {},
   "outputs": [
    {
     "name": "stdout",
     "output_type": "stream",
     "text": [
      "\n",
      "Pratos adicionados até o momento:\n",
      "1 - arroz\n",
      "\n",
      "Pratos adicionados até o momento:\n",
      "1 - arroz\n",
      "2 - carne\n",
      "\n",
      "Pratos adicionados até o momento:\n",
      "1 - arroz\n",
      "2 - carne\n",
      "3 - batata\n",
      "\n",
      "Pratos adicionados até o momento:\n",
      "1 - arroz\n",
      "2 - carne\n",
      "3 - batata\n",
      "4 - cebola\n",
      "\n",
      "Sua lista de até 4 pratos favoritos:\n",
      "1 - arroz\n",
      "2 - carne\n",
      "3 - batata\n",
      "4 - cebola\n"
     ]
    }
   ],
   "source": [
    "# ch 73\n",
    "\n",
    "pratos_favoritos = {}\n",
    "\n",
    "def listar_pratos(pratos_favoritos):\n",
    "   for prato in pratos_favoritos:\n",
    "     \n",
    "     print(f\"{prato} - {pratos_favoritos[prato]}\")\n",
    "\n",
    "for i in range(1,5):\n",
    "   prompt = \"Digite qual sua comida favorita: \"\n",
    "   pratos_favoritos[i] = input(prompt)\n",
    "   \n",
    "   print(\"\\nPratos adicionados até o momento:\")\n",
    "   listar_pratos(pratos_favoritos)\n",
    "   \n",
    "   choice  = input(\"Deseja excluir algum prato? Digite: s ou n (sim ou não)\")\n",
    "     \n",
    "   if choice.lower() == \"s\": \n",
    "      prompt = \"digite o número do prato a excluir\"\n",
    "      excluir_prato = int(input(prompt))\n",
    "      del pratos_favoritos[excluir_prato]\n",
    "  \n",
    "print(\"\\nSua lista de até 4 pratos favoritos:\")\n",
    "listar_pratos(pratos_favoritos)  \n",
    " \n",
    "\n"
   ]
  }
 ],
 "metadata": {
  "interpreter": {
   "hash": "916dbcbb3f70747c44a77c7bcd40155683ae19c65e1c03b4aa3499c5328201f1"
  },
  "kernelspec": {
   "display_name": "Python 3.8.10 64-bit",
   "language": "python",
   "name": "python3"
  },
  "language_info": {
   "codemirror_mode": {
    "name": "ipython",
    "version": 3
   },
   "file_extension": ".py",
   "mimetype": "text/x-python",
   "name": "python",
   "nbconvert_exporter": "python",
   "pygments_lexer": "ipython3",
   "version": "3.8.10"
  },
  "orig_nbformat": 4
 },
 "nbformat": 4,
 "nbformat_minor": 2
}
