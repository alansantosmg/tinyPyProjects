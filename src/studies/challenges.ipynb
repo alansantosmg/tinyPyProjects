{
 "cells": [
  {
   "cell_type": "markdown",
   "metadata": {},
   "source": [
    "Challenges 20 a 24"
   ]
  },
  {
   "cell_type": "markdown",
   "metadata": {},
   "source": [
    "## Multiple line strings"
   ]
  },
  {
   "cell_type": "code",
   "execution_count": 4,
   "metadata": {},
   "outputs": [
    {
     "name": "stdout",
     "output_type": "stream",
     "text": [
      "alan tem 4 caracteres.\n"
     ]
    }
   ],
   "source": [
    "#ch 20\n",
    "username = input(str(\"Entre com seu nome: \" ))\n",
    "print(username, \"tem\", len(username), \"caracteres.\")"
   ]
  },
  {
   "cell_type": "code",
   "execution_count": 3,
   "metadata": {},
   "outputs": [
    {
     "name": "stdout",
     "output_type": "stream",
     "text": [
      "Nome: Alan \n",
      "Sobrenome: Santos\n",
      "Caracteres: 10\n"
     ]
    }
   ],
   "source": [
    "# ch 21\n",
    "first_name = input(str(\"Digite seu nome: \"))\n",
    "second_name = input(str(\"digite seu sobrenome: \"))\n",
    "name_size = len(first_name) + len(second_name)\n",
    "print(\"Nome:\", first_name,  \"\\nSobrenome:\", second_name)\n",
    "print(\"Caracteres:\", name_size)"
   ]
  },
  {
   "cell_type": "code",
   "execution_count": 7,
   "metadata": {},
   "outputs": [
    {
     "name": "stdout",
     "output_type": "stream",
     "text": [
      "Tamanho da canção:  24\n",
      "gato\n"
     ]
    }
   ],
   "source": [
    "# ch 23\n",
    "cancao_ninar = input(\"Digite a primeira linha de sua canção de ninar: \")\n",
    "print(\"Tamanho da canção: \", len(cancao_ninar))\n",
    "inicial = int(input(\"entre numero inicial: \"))\n",
    "final = int(input(\"Entre com número final: \"))\n",
    "print(cancao_ninar[inicial:final])"
   ]
  },
  {
   "cell_type": "code",
   "execution_count": 9,
   "metadata": {},
   "outputs": [
    {
     "name": "stdout",
     "output_type": "stream",
     "text": [
      "ALAN\n"
     ]
    }
   ],
   "source": [
    "# ch 24\n",
    "print(input(\"Digite seu nome: \").upper())"
   ]
  },
  {
   "cell_type": "code",
   "execution_count": 12,
   "metadata": {},
   "outputs": [
    {
     "name": "stdout",
     "output_type": "stream",
     "text": [
      "aaaaa\n"
     ]
    }
   ],
   "source": [
    "# ch 25\n",
    "first_name = input(\"Type your first name: \")\n",
    "if len(first_name) < 5:\n",
    "    surname = input(\"Enter your surname: \")\n",
    "    name = (first_name + surname).strip()\n",
    "    print(name.upper())\n",
    "else: \n",
    "    print(first_name.lower())\n"
   ]
  },
  {
   "cell_type": "code",
   "execution_count": null,
   "metadata": {},
   "outputs": [],
   "source": [
    "pets = ['dog','cat','bird','zof','cat', 'rabbit', 'cat']\n",
    "while 'cat' in pets:\n",
    "    pets.remove('cat')\n",
    "print(pets)\n"
   ]
  },
  {
   "cell_type": "markdown",
   "metadata": {},
   "source": [
    "## Maths"
   ]
  },
  {
   "cell_type": "code",
   "execution_count": 1,
   "metadata": {},
   "outputs": [
    {
     "name": "stdout",
     "output_type": "stream",
     "text": [
      "24691.13355531047\n"
     ]
    }
   ],
   "source": [
    "# ch 27\n",
    "number = float(input(\"Enter a decimal number: \"))\n",
    "print(number *2)\n"
   ]
  },
  {
   "cell_type": "code",
   "execution_count": 5,
   "metadata": {},
   "outputs": [
    {
     "name": "stdout",
     "output_type": "stream",
     "text": [
      "47047068506.909\n"
     ]
    }
   ],
   "source": [
    "# ch 28\n",
    "number = float(input(\"Enter a decimal number: \"))\n",
    "print(round((number *2),3))"
   ]
  },
  {
   "cell_type": "code",
   "execution_count": 7,
   "metadata": {},
   "outputs": [
    {
     "name": "stdout",
     "output_type": "stream",
     "text": [
      "3.141592653589793\n"
     ]
    }
   ],
   "source": [
    "# 30\n",
    "from math import pi\n",
    "print(round((pi),15))"
   ]
  },
  {
   "cell_type": "code",
   "execution_count": 9,
   "metadata": {},
   "outputs": [
    {
     "name": "stdout",
     "output_type": "stream",
     "text": [
      "24.49\n"
     ]
    }
   ],
   "source": [
    "# ch 29\n",
    "from math import sqrt\n",
    "number = int(input(\"Enter number over 500\"))\n",
    "print(round(sqrt(number),2))"
   ]
  },
  {
   "cell_type": "code",
   "execution_count": 10,
   "metadata": {},
   "outputs": [
    {
     "name": "stdout",
     "output_type": "stream",
     "text": [
      "314.1592653589793\n"
     ]
    }
   ],
   "source": [
    "# ch 31\n",
    "from math import pi\n",
    "radius = float(input(\"Enter the radius of a circle: \"))\n",
    "area = pi * (radius**2)\n",
    "print(area)"
   ]
  },
  {
   "cell_type": "code",
   "execution_count": 12,
   "metadata": {},
   "outputs": [
    {
     "name": "stdout",
     "output_type": "stream",
     "text": [
      "Area: 314.16\n",
      "Volume 9424.78\n"
     ]
    }
   ],
   "source": [
    "# ch 32\n",
    "from math import pi\n",
    "radius = float(input(\"Enter the radius of a cylinder: \"))\n",
    "depth = float(input(\"Enter the depth of the cylinder: \"))\n",
    "area = pi * (radius**2)\n",
    "volume = area * depth\n",
    "print(\"Area:\", round(area,2))\n",
    "print(\"Volume:\", round(volume,2))"
   ]
  },
  {
   "cell_type": "code",
   "execution_count": 13,
   "metadata": {},
   "outputs": [
    {
     "name": "stdout",
     "output_type": "stream",
     "text": [
      "7.0 divided by 2.0 is 3.0 with 1.0 remaining.\n"
     ]
    }
   ],
   "source": [
    "# ch 33\n",
    "first_number= float(input(\"Enter a number: \"))\n",
    "second_number = float(input(\"Enter another number: \"))\n",
    "division = first_number // second_number\n",
    "rest = first_number % second_number\n",
    "print(first_number, \"divided by\", second_number, \"is\", division, \"with\", rest, \"remaining.\")"
   ]
  },
  {
   "cell_type": "code",
   "execution_count": 15,
   "metadata": {},
   "outputs": [
    {
     "name": "stdout",
     "output_type": "stream",
     "text": [
      "1) Square\n",
      "2) Triangle\n",
      "\n",
      "The area of the triangle is 5.0\n"
     ]
    }
   ],
   "source": [
    "# ch 34\n",
    "\n",
    "print(\"1) Square\")\n",
    "print(\"2) Triangle\")\n",
    "print()\n",
    "option = int(input(\"Enter a number: \"))\n",
    "if option == 1: \n",
    "    side = float(input(\"Enter the side lenght: \"))\n",
    "    area = side**2\n",
    "    print(\"The area of the square is\", area)\n",
    "elif option == 2:\n",
    "    base = float(input(\"Enter the base lenght: \"))\n",
    "    height = float(input(\"Enter the height: \"))\n",
    "    area = (base*height)/2\n",
    "    print(\"The area of the triangle is\", area)\n",
    "else: \n",
    "    \"You choose a wrong option. Bye\"\n"
   ]
  },
  {
   "cell_type": "markdown",
   "metadata": {},
   "source": [
    "## For loops"
   ]
  },
  {
   "cell_type": "code",
   "execution_count": 17,
   "metadata": {},
   "outputs": [
    {
     "name": "stdout",
     "output_type": "stream",
     "text": [
      "Seu nome é Alan\n",
      "Seu nome é Alan\n",
      "Seu nome é Alan\n"
     ]
    }
   ],
   "source": [
    "# ch 35\n",
    "name = input(\"Entre seu nome: \")\n",
    "for i in range(0,3):\n",
    "    print(\"Seu nome é\", name)"
   ]
  },
  {
   "cell_type": "code",
   "execution_count": 19,
   "metadata": {},
   "outputs": [
    {
     "name": "stdout",
     "output_type": "stream",
     "text": [
      "Seu nome é Alan\n",
      "Seu nome é Alan\n",
      "Seu nome é Alan\n",
      "Seu nome é Alan\n",
      "Seu nome é Alan\n"
     ]
    }
   ],
   "source": [
    "# ch 36\n",
    "name = input(\"Entre seu nome: \")\n",
    "number_of_times = int(input(\"Digite a quantidade de vezes: \"))\n",
    "for i in range(0,number_of_times):\n",
    "    print(\"Seu nome é\", name)"
   ]
  },
  {
   "cell_type": "code",
   "execution_count": null,
   "metadata": {},
   "outputs": [],
   "source": []
  },
  {
   "cell_type": "code",
   "execution_count": 21,
   "metadata": {},
   "outputs": [
    {
     "name": "stdout",
     "output_type": "stream",
     "text": [
      "a\n",
      "l\n",
      "a\n",
      "n\n"
     ]
    }
   ],
   "source": [
    "# ch 37\n",
    "name = input(\"Entre seu nome: \")\n",
    "for i in range(0,len(name)):\n",
    "    print(name[i])"
   ]
  },
  {
   "cell_type": "code",
   "execution_count": 31,
   "metadata": {},
   "outputs": [
    {
     "name": "stdout",
     "output_type": "stream",
     "text": [
      "a\n",
      "l\n",
      "a\n",
      "n\n",
      "\n",
      "a\n",
      "l\n",
      "a\n",
      "n\n",
      "\n",
      "a\n",
      "l\n",
      "a\n",
      "n\n",
      "\n",
      "a\n",
      "l\n",
      "a\n",
      "n\n",
      "\n"
     ]
    }
   ],
   "source": [
    "# ch 38\n",
    "number_of_times = int(input(\"Digite a quantidade de vezes: \"))\n",
    "name = input(\"Entre seu nome: \")\n",
    "for x in range(0,number_of_times):\n",
    "    for i in name:\n",
    "        print(i)\n",
    "    print()\n",
    "        "
   ]
  },
  {
   "cell_type": "code",
   "execution_count": 59,
   "metadata": {},
   "outputs": [
    {
     "name": "stdout",
     "output_type": "stream",
     "text": [
      "1 x 0 = 0\n",
      "1 x 1 = 1\n",
      "1 x 2 = 2\n",
      "1 x 3 = 3\n",
      "1 x 4 = 4\n",
      "1 x 5 = 5\n",
      "1 x 6 = 6\n",
      "1 x 7 = 7\n",
      "1 x 8 = 8\n",
      "1 x 9 = 9\n",
      "1 x 10 = 10\n"
     ]
    }
   ],
   "source": [
    "# ch 39\n",
    "number = int(input(\"Enter a number between 1 and 12: \"))\n",
    "for i in range(0,11):\n",
    "    print(number, \"x\", i, \"=\", number*i )\n",
    "\n",
    "\n"
   ]
  },
  {
   "cell_type": "code",
   "execution_count": 43,
   "metadata": {},
   "outputs": [
    {
     "name": "stdout",
     "output_type": "stream",
     "text": [
      "50\n",
      "49\n",
      "48\n"
     ]
    }
   ],
   "source": [
    "#ch 40\n",
    "# contagem decrescente com for\n",
    "number = int(input(\"enter a number below 50: \"))\n",
    "for i in range(50,number-1,-1):\n",
    "    print(i)"
   ]
  },
  {
   "cell_type": "code",
   "execution_count": 53,
   "metadata": {},
   "outputs": [
    {
     "name": "stdout",
     "output_type": "stream",
     "text": [
      "Too high\n",
      "Too high\n",
      "Too high\n"
     ]
    }
   ],
   "source": [
    "# ch 41\n",
    "username = (input(\"Enter your name: \"))\n",
    "number = int(input(\"Enter a number: \"))\n",
    "if number < 10:\n",
    "    for _ in range(0,number):\n",
    "        print(\"Seu nome é:\", name)\n",
    "else: \n",
    "    for _ in range(0,3): \n",
    "        print(\"Too high\")\n"
   ]
  },
  {
   "cell_type": "code",
   "execution_count": 63,
   "metadata": {},
   "outputs": [
    {
     "name": "stdout",
     "output_type": "stream",
     "text": [
      "Total is  15.0\n"
     ]
    }
   ],
   "source": [
    "# ch 42\n",
    "total = 0\n",
    "positive_response = [\"y\", \"yes\", \"yep\", \"ye\", \"sim\", \"s\", \"i\"]\n",
    "for _ in range(0,5):\n",
    "    number = float(input(\"Enter a number: \"))\n",
    "    include_number = input(\"Do you want to include number? (y/n): \")\n",
    "    if include_number in positive_response:\n",
    "      total+= number\n",
    "print(\"Total is \", total)\n",
    "    \n"
   ]
  },
  {
   "cell_type": "code",
   "execution_count": 118,
   "metadata": {},
   "outputs": [
    {
     "name": "stdout",
     "output_type": "stream",
     "text": [
      "20\n",
      "19\n",
      "18\n",
      "17\n",
      "16\n",
      "15\n",
      "14\n",
      "13\n",
      "12\n",
      "11\n",
      "10\n",
      "9\n",
      "8\n",
      "7\n",
      "6\n",
      "5\n",
      "4\n",
      "3\n",
      "2\n"
     ]
    }
   ],
   "source": [
    "# ch 43\n",
    "\n",
    "prompt = \"Are you going up our down?\"\n",
    "direction = input(prompt)\n",
    "if direction == 'up':\n",
    "    prompt = \"Enter a top number\"\n",
    "    number = int(input(number))\n",
    "    for count in range(1,number+1):\n",
    "        print(count)\n",
    "elif direction == 'down':\n",
    "    prompt = \"Enter a number below 20\"\n",
    "    number = int(input(number))\n",
    "    for count in range(20,number-1,-1):\n",
    "        print(count)\n",
    "else:\n",
    "    print(\"I don't understand.\")\n",
    "\n",
    "\n"
   ]
  },
  {
   "cell_type": "code",
   "execution_count": 121,
   "metadata": {},
   "outputs": [
    {
     "name": "stdout",
     "output_type": "stream",
     "text": [
      "a invited!\n",
      "b invited!\n",
      "c invited!\n",
      "d invited!\n",
      "e invited!\n",
      "e invited!\n",
      "f invited!\n",
      "g invited!\n",
      "h invited!\n"
     ]
    }
   ],
   "source": [
    "# ch 44\n",
    "prompt = \"How many people do you want to invite do the party?\"\n",
    "people_to_invite = int(input(prompt))\n",
    "if people_to_invite < 10:\n",
    "    for _ in range(1,10):\n",
    "        name = input(\"Enter de name to be invited: \")\n",
    "        print(name + \" invited!\")\n",
    "else:\n",
    "    print(\"Too many people.\")\n"
   ]
  },
  {
   "cell_type": "markdown",
   "metadata": {},
   "source": [
    "## While loops"
   ]
  },
  {
   "cell_type": "code",
   "execution_count": 2,
   "metadata": {},
   "outputs": [
    {
     "name": "stdout",
     "output_type": "stream",
     "text": [
      "The total is: 1.0\n",
      "The total is: 3.0\n",
      "The total is: 8.0\n",
      "The total is: 18.0\n",
      "The total is: 53.0\n"
     ]
    }
   ],
   "source": [
    "# ch 45\n",
    "\n",
    "total = 0\n",
    "while total <= 50:\n",
    "    number = float(input(\"Enter a number: \"))\n",
    "    total += number\n",
    "    print(\"The total is:\",  total)"
   ]
  },
  {
   "cell_type": "code",
   "execution_count": 7,
   "metadata": {},
   "outputs": [
    {
     "name": "stdout",
     "output_type": "stream",
     "text": [
      "The last number you enter is: 6.0\n"
     ]
    }
   ],
   "source": [
    "# ch 46\n",
    "number = 0\n",
    "while number <= 5 : \n",
    "    number = float(input(\"Enter a number: \"))\n",
    "print(\"The last number you enter is:\", number)"
   ]
  },
  {
   "cell_type": "code",
   "execution_count": 13,
   "metadata": {},
   "outputs": [
    {
     "name": "stdout",
     "output_type": "stream",
     "text": [
      "15.0\n"
     ]
    }
   ],
   "source": [
    "# ch 47\n",
    "number = 0\n",
    "add_more = 'y'\n",
    "while add_more == 'y': \n",
    "    number += float(input(\"Add a number:\"))\n",
    "    add_more = input(\"Add another? (y/n): \")\n",
    "print(number)"
   ]
  },
  {
   "cell_type": "code",
   "execution_count": 3,
   "metadata": {},
   "outputs": [
    {
     "name": "stdout",
     "output_type": "stream",
     "text": [
      "3\n"
     ]
    }
   ],
   "source": [
    "# ch 48 \n",
    "\n",
    "response_new_invite = ['no', 'not', 'n','nt','não','nao','yes','y','s','sim']\n",
    "flag_loop = True\n",
    "count_invited = 0\n",
    "while flag_loop: \n",
    "    prompt = \"Quem gostaria de convidar para a festa?\"\n",
    "    person_invited = input(prompt)\n",
    "    count_invited += 1\n",
    "    prompt = \"Gostaria de convidar mais alguém? (y/n)\"\n",
    "    response = input(prompt)\n",
    "    if response in  response_new_invite[:6]:\n",
    "        flag_loop = False\n",
    "print(count_invited)\n",
    "        \n"
   ]
  },
  {
   "cell_type": "code",
   "execution_count": 6,
   "metadata": {},
   "outputs": [
    {
     "name": "stdout",
     "output_type": "stream",
     "text": [
      "Muito baixo\n",
      "Muito alto\n",
      "Você acertou depois de 3 tentativas!\n"
     ]
    }
   ],
   "source": [
    "# ch 49 - jogo de adivinhação de números\n",
    "\n",
    "loop_flag = True\n",
    "compnun = 50\n",
    "attempts = 0\n",
    "while loop_flag: \n",
    "    prompt = 'Enter a number'\n",
    "    number = int(input(prompt))\n",
    "    attempts += 1\n",
    "    if number > compnun: \n",
    "        print(\"Muito alto\")\n",
    "    elif number < compnun:\n",
    "        print(\"Muito baixo\")\n",
    "    else: \n",
    "        loop_flag = False\n",
    "print(\"Parabéns! Você acertou depois de\", attempts, \"tentativas!\")\n"
   ]
  },
  {
   "cell_type": "code",
   "execution_count": 7,
   "metadata": {},
   "outputs": [
    {
     "name": "stdout",
     "output_type": "stream",
     "text": [
      "Muito alto.\n",
      "Muito alto.\n",
      "Muito baixo\n",
      "Muito baixo\n",
      "Muito baixo\n",
      "Obrigado!\n"
     ]
    }
   ],
   "source": [
    "# ch 50 \n",
    "\n",
    "loop_flag = True\n",
    "prompt = \"Entre um número entre 10 e 20\"\n",
    "\n",
    "while loop_flag:\n",
    "\n",
    "    number = int(input(prompt))\n",
    "    if number < 10:\n",
    "        print(\"Muito baixo.\")\n",
    "    elif number > 20:\n",
    "        print(\"Muito alto.\")\n",
    "    else:\n",
    "        loop_flag = False \n",
    "        \n",
    "print(\"Obrigado!\") \n",
    "\n"
   ]
  },
  {
   "cell_type": "code",
   "execution_count": 28,
   "metadata": {},
   "outputs": [
    {
     "name": "stdout",
     "output_type": "stream",
     "text": [
      "\n",
      "There are [num] green bottles hanging on the wall, \n",
      "[num] green bottles hanging on the wall, \n",
      "and if 1 green bottle should accidentaly fall...\n",
      "No! Try again.\n",
      "No! Try again.\n",
      "There will be 7 green bottles hanging on the wall\n"
     ]
    }
   ],
   "source": [
    "# ch 51 - Jogo de adivinhação da música das garrafas\n",
    "# Programado para ser mais interessante que o do livro.\n",
    "\n",
    "print(\"\\nThere are [num] green bottles hanging on the wall, \" \n",
    "+ \"\\n[num] green bottles hanging on the wall, \" \n",
    "+ \"\\nand if 1 green bottle should accidentaly fall...z\\n\")\n",
    "\n",
    "question = \"How many green bottles will be hanging on the wall?\"\n",
    "\n",
    "num = 10\n",
    "\n",
    "while num > 0: \n",
    "\n",
    "    response = int(input(question))\n",
    "    \n",
    "    # se uma garrafa cair sempre haverá uma garrafa a menos\n",
    "    if response != num-1:\n",
    "        \n",
    "        # mas se todas garrafas tiverem caído não haverá mais nenhuma\n",
    "        if num == 0:\n",
    "            print(\"There are no more green bootles hanging on the wall\")\n",
    "        \n",
    "        # cada vez que errar o numero de garrafas que sobram quando \n",
    "        # uma garrafa cair, mais uma garrafa cairá. \n",
    "        else:\n",
    "            num = num -1\n",
    "            \n",
    "            print(\"No! Try again.\")     \n",
    "    else:\n",
    "        print(\"There will be\", num-1, \"green bottles hanging on the wall.\" )\n",
    "        num = 0\n",
    "        \n",
    "        \n",
    "\n"
   ]
  },
  {
   "cell_type": "code",
   "execution_count": null,
   "metadata": {},
   "outputs": [],
   "source": []
  }
 ],
 "metadata": {
  "interpreter": {
   "hash": "916dbcbb3f70747c44a77c7bcd40155683ae19c65e1c03b4aa3499c5328201f1"
  },
  "kernelspec": {
   "display_name": "Python 3.8.10 64-bit",
   "language": "python",
   "name": "python3"
  },
  "language_info": {
   "codemirror_mode": {
    "name": "ipython",
    "version": 3
   },
   "file_extension": ".py",
   "mimetype": "text/x-python",
   "name": "python",
   "nbconvert_exporter": "python",
   "pygments_lexer": "ipython3",
   "version": "3.8.10"
  },
  "orig_nbformat": 4
 },
 "nbformat": 4,
 "nbformat_minor": 2
}
