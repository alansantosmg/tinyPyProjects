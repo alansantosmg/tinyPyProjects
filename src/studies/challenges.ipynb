{
 "cells": [
  {
   "cell_type": "markdown",
   "metadata": {},
   "source": [
    "Challenges 20 a 24"
   ]
  },
  {
   "cell_type": "code",
   "execution_count": 4,
   "metadata": {},
   "outputs": [
    {
     "name": "stdout",
     "output_type": "stream",
     "text": [
      "alan tem 4 caracteres.\n"
     ]
    }
   ],
   "source": [
    "#ch 20\n",
    "username = input(str(\"Entre com seu nome: \" ))\n",
    "print(username, \"tem\", len(username), \"caracteres.\")"
   ]
  },
  {
   "cell_type": "code",
   "execution_count": 3,
   "metadata": {},
   "outputs": [
    {
     "name": "stdout",
     "output_type": "stream",
     "text": [
      "Nome: Alan \n",
      "Sobrenome: Santos\n",
      "Caracteres: 10\n"
     ]
    }
   ],
   "source": [
    "# ch 21\n",
    "first_name = input(str(\"Digite seu nome: \"))\n",
    "second_name = input(str(\"digite seu sobrenome: \"))\n",
    "name_size = len(first_name) + len(second_name)\n",
    "print(\"Nome:\", first_name,  \"\\nSobrenome:\", second_name)\n",
    "print(\"Caracteres:\", name_size)"
   ]
  },
  {
   "cell_type": "code",
   "execution_count": 7,
   "metadata": {},
   "outputs": [
    {
     "name": "stdout",
     "output_type": "stream",
     "text": [
      "Tamanho da canção:  24\n",
      "gato\n"
     ]
    }
   ],
   "source": [
    "# ch 23\n",
    "cancao_ninar = input(\"Digite a primeira linha de sua canção de ninar: \")\n",
    "print(\"Tamanho da canção: \", len(cancao_ninar))\n",
    "inicial = int(input(\"entre numero inicial: \"))\n",
    "final = int(input(\"Entre com número final: \"))\n",
    "print(cancao_ninar[inicial:final])"
   ]
  },
  {
   "cell_type": "code",
   "execution_count": null,
   "metadata": {},
   "outputs": [],
   "source": [
    "# ch 24\n",
    "print(input(\"Digite seu nome: \").title())"
   ]
  }
 ],
 "metadata": {
  "interpreter": {
   "hash": "916dbcbb3f70747c44a77c7bcd40155683ae19c65e1c03b4aa3499c5328201f1"
  },
  "kernelspec": {
   "display_name": "Python 3.8.10 64-bit",
   "language": "python",
   "name": "python3"
  },
  "language_info": {
   "codemirror_mode": {
    "name": "ipython",
    "version": 3
   },
   "file_extension": ".py",
   "mimetype": "text/x-python",
   "name": "python",
   "nbconvert_exporter": "python",
   "pygments_lexer": "ipython3",
   "version": "3.8.10"
  },
  "orig_nbformat": 4
 },
 "nbformat": 4,
 "nbformat_minor": 2
}
