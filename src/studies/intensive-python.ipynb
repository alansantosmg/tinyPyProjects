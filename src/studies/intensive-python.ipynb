{
 "cells": [
  {
   "cell_type": "code",
   "execution_count": null,
   "metadata": {},
   "outputs": [],
   "source": [
    "## Lists"
   ]
  },
  {
   "cell_type": "code",
   "execution_count": null,
   "metadata": {},
   "outputs": [],
   "source": [
    "# Lista vazia\n",
    "\n",
    "empty = []\n",
    "print(empty)\n",
    "print()"
   ]
  },
  {
   "cell_type": "code",
   "execution_count": null,
   "metadata": {},
   "outputs": [],
   "source": [
    "# listar item de uma lista\n",
    "\n",
    "acronyms = ['lol', 'idk', 'tbk',]\n",
    "print(acronyms)\n",
    "print(acronyms[0]) #print lol\n",
    "print()\n"
   ]
  },
  {
   "cell_type": "code",
   "execution_count": null,
   "metadata": {},
   "outputs": [],
   "source": [
    "# atualizar lista\n",
    "\n",
    "acronyms = ['lol', 'idk', 'tbk',]\n",
    "acronyms[1] = 'rxt' # update list index 1\n",
    "print(acronyms[1]) # print rxt\n",
    "print()\n"
   ]
  },
  {
   "cell_type": "code",
   "execution_count": null,
   "metadata": {},
   "outputs": [],
   "source": [
    "# adicionar itens no final da lista\n",
    "\n",
    "acronyms = ['lol', 'idk', 'tbk',]\n",
    "acronyms.append('imho') # add item to the end of the list\n",
    "print(acronyms)\n",
    "print()"
   ]
  },
  {
   "cell_type": "code",
   "execution_count": null,
   "metadata": {},
   "outputs": [],
   "source": [
    "# Remover itens da lista\n",
    "\n",
    "acronyms = ['lol', 'idk', 'tbk','tmc', 'jdk', 'lsx']\n",
    "acronyms.remove('lol') # remove item lol\n",
    "print(acronyms)\n",
    "acronyms.remove(acronyms[1])  # remove item of index 1\n",
    "print(acronyms)\n",
    "print()"
   ]
  },
  {
   "cell_type": "code",
   "execution_count": null,
   "metadata": {},
   "outputs": [],
   "source": [
    "# Deletar itens da lista\n",
    "\n",
    "del acronyms[1] # same as line above\n",
    "print(acronyms)\n",
    "print()\n"
   ]
  },
  {
   "cell_type": "code",
   "execution_count": null,
   "metadata": {},
   "outputs": [],
   "source": [
    "# inserir itens em qualquer posição na lista\n",
    "\n",
    "acronyms.insert(2, 'teste')\n",
    "print (acronyms)\n",
    "print()\n"
   ]
  },
  {
   "cell_type": "code",
   "execution_count": null,
   "metadata": {},
   "outputs": [
    {
     "data": {
      "text/plain": [
       "True"
      ]
     },
     "metadata": {},
     "output_type": "display_data"
    }
   ],
   "source": [
    "# Verificando se item não está na lista\n",
    "\n",
    "requested_toppings = ['mushrooms', 'onions', 'pineaple']\n",
    "'mushroons'not  in requested_toppings"
   ]
  },
  {
   "cell_type": "code",
   "execution_count": null,
   "metadata": {},
   "outputs": [],
   "source": [
    "# Verificar se item existe na lista\n",
    "\n",
    "if 'lol' in acronyms:\n",
    "    print('True')\n",
    "# check if item exists:\n",
    "if 1 in [1,2,3,4]:\n",
    "    print('True')\n",
    "print()"
   ]
  },
  {
   "cell_type": "code",
   "execution_count": null,
   "metadata": {},
   "outputs": [],
   "source": [
    "# Imprimir cada item da lista\n",
    "\n",
    "for item in acronyms:\n",
    "    print(item)\n",
    "print()"
   ]
  },
  {
   "cell_type": "code",
   "execution_count": null,
   "metadata": {},
   "outputs": [],
   "source": [
    "# somar numeros de uma lista\n",
    "\n",
    "numbers = [1,32,5,7]\n",
    "print(sum(numbers))\n",
    "print()"
   ]
  },
  {
   "cell_type": "code",
   "execution_count": null,
   "metadata": {},
   "outputs": [],
   "source": [
    "# mixar tipos diferentes em uma lista\n",
    "\n",
    "anything = ['a',1,1.5]\n",
    "print(anything)\n",
    "print()"
   ]
  },
  {
   "cell_type": "code",
   "execution_count": null,
   "metadata": {},
   "outputs": [],
   "source": [
    "# Ordenando permanente uma lista com metodo sort\n",
    "\n",
    "cars = ['bmw', 'fiat', 'vw', 'chevrolet']\n",
    "print(cars)\n",
    "cars.sort()\n",
    "print(cars)\n",
    "cars.sort(reverse=True)\n",
    "print(cars)\n",
    "print()\n"
   ]
  },
  {
   "cell_type": "code",
   "execution_count": null,
   "metadata": {},
   "outputs": [],
   "source": [
    "# Ordenando temporarimente uma lista funcao sort\n",
    "\n",
    "cars = ['bmw', 'fiat', 'vw', 'chevrolet']\n",
    "print(cars)\n",
    "print(sorted(cars))\n",
    "print(cars)\n",
    "print(sorted(cars, reverse=True))\n",
    "print(cars)\n",
    "print()"
   ]
  },
  {
   "cell_type": "code",
   "execution_count": null,
   "metadata": {},
   "outputs": [],
   "source": [
    "# Lista bidimensional (lista dentro de lista)\n",
    "\n",
    "lists_of_lists = [[1,2,3],['a','b'],[1,'x']]\n",
    "print(lists_of_lists)\n",
    "print()\n"
   ]
  },
  {
   "cell_type": "code",
   "execution_count": null,
   "metadata": {},
   "outputs": [],
   "source": [
    "# ranges\n",
    "\n",
    "range(7)  # iterate 7 times  (zero to 6)\n",
    "range(0,7,1) # 0 start, 7 stop, 1 step\n",
    "range(2,14,2) # (2,4,6,8,10,12)"
   ]
  },
  {
   "cell_type": "code",
   "execution_count": null,
   "metadata": {},
   "outputs": [],
   "source": [
    "# imprimir numeros de um range\n",
    "\n",
    "for value in range(1,7):\n",
    "    print(value)  # vai imprimir de 1 a 6\n",
    "print()"
   ]
  },
  {
   "cell_type": "code",
   "execution_count": null,
   "metadata": {},
   "outputs": [],
   "source": [
    "# popular lista com numeros atraves de range\n",
    "\n",
    "minha_lista = list(range(1,7))\n",
    "print(minha_lista)\n",
    "print()\n",
    "print(\"pares de 2 a 10\")\n",
    "minha_lista2 = list(range(2,11,2))\n",
    "print(minha_lista2)\n",
    "print()"
   ]
  },
  {
   "cell_type": "code",
   "execution_count": null,
   "metadata": {},
   "outputs": [],
   "source": [
    "# usar entrada de usuário como range\n",
    "\n",
    "total = 0\n",
    "expenses = []\n",
    "num_expenses = int(input(\"enter # of expenses: \"))\n",
    "for i in range (num_expenses):\n",
    "    expenses.append (float(input(\"Enter a expense: \")))\n",
    "total = sum(expenses)\n",
    "print(\"total expenses is \", total)\n",
    "print()"
   ]
  },
  {
   "cell_type": "code",
   "execution_count": null,
   "metadata": {},
   "outputs": [],
   "source": [
    "# acessar dicionário e lista com for\n",
    "\n",
    "menus = {'breakfast': ['egg', 'bagel'],\n",
    "         'dinner':    ['rice','beans']}\n",
    "\n",
    "for name, menu in menus.items():\n",
    "    print(name, ':', menu)\n",
    "print()"
   ]
  },
  {
   "cell_type": "code",
   "execution_count": null,
   "metadata": {},
   "outputs": [],
   "source": [
    "# representar objetos do mundo real com dicionário\n",
    "\n",
    "person = {'name': 'Alan Santos', \n",
    "'city': 'Niteroi',\n",
    "'age': '100',\n",
    "'hobbies': ['music', 'guitar']}\n",
    "\n",
    "print(person.get('name'), 'is', person.get('age'), 'years old')\n",
    "print() \n"
   ]
  },
  {
   "cell_type": "code",
   "execution_count": null,
   "metadata": {},
   "outputs": [],
   "source": [
    "# max e min\n",
    "\n",
    "numbers = [10,11,23,8,1000,4,3.5,23]\n",
    "print(min(numbers))\n",
    "print(max(numbers))\n",
    "print()\n"
   ]
  },
  {
   "cell_type": "code",
   "execution_count": null,
   "metadata": {},
   "outputs": [],
   "source": [
    "# list comprehension\n",
    "\n",
    "squares = []\n",
    "for value in range(1,11):\n",
    "    squares.append(value **2 )\n",
    "print(squares)\n",
    "\n",
    "# list comprehension:\n",
    "squares = [value ** 2 for value in range(1,11)]\n",
    "print(squares)\n",
    "\n"
   ]
  },
  {
   "cell_type": "code",
   "execution_count": null,
   "metadata": {},
   "outputs": [],
   "source": [
    "# Inverter ordem original de uma lista\n",
    "\n",
    "cars = ['bmw', 'fiat', 'vw', 'chevrolet']\n",
    "print(cars)\n",
    "cars.reverse()\n",
    "print(cars)\n",
    "print()"
   ]
  },
  {
   "cell_type": "code",
   "execution_count": 1,
   "metadata": {},
   "outputs": [
    {
     "name": "stdout",
     "output_type": "stream",
     "text": [
      "Adding onions\n"
     ]
    }
   ],
   "source": [
    "# Percorrendo lista item a item a procura de 1 item especifico\n",
    "\n",
    "requested_toppings = ['mushrooms', 'onions', 'pineaple']\n",
    "for requested_topping in requested_toppings:\n",
    "    if requested_topping == 'onions': \n",
    "        print(\"Adding \" + requested_topping)"
   ]
  },
  {
   "cell_type": "code",
   "execution_count": null,
   "metadata": {},
   "outputs": [],
   "source": [
    "## Dicionários"
   ]
  },
  {
   "cell_type": "code",
   "execution_count": null,
   "metadata": {},
   "outputs": [],
   "source": [
    "# pg 113 - Modificando um dicionário\n",
    "\n",
    "alien_0 = {'color':'green', 'points':'5'}\n",
    "print(alien_0['color'])\n",
    "print(alien_0['points'])\n",
    "alien_0['x_position'] = 0\n",
    "alien_0['y_position'] = 25\n",
    "print(alien_0)\n",
    "alien_0['color'] = 'red'\n",
    "print(\"A cor do alien agora é\", alien_0['color'], \".\")\n"
   ]
  },
  {
   "cell_type": "code",
   "execution_count": null,
   "metadata": {},
   "outputs": [],
   "source": [
    "## Modificando dicionários\n",
    "\n",
    "alien_0 = {'x_position': 0, 'y_position': 25,'speed': 'medium', 'points': 5}\n",
    "print(\"Original x-position: \" + str(alien_0['x_position']))\n",
    "\n",
    "# move o alienigena para a direita\n",
    "# determina a distancia que o alienigena deve deslocar de acordo com sua\n",
    "# velocidade atual\n",
    "\n",
    "if alien_0['speed'] == 'slow': \n",
    "    x_increment = 1\n",
    "elif alien_0['speed'] == 'medium': \n",
    "    x_increment = 2\n",
    "else:\n",
    "    x_increment = 3\n",
    "\n",
    "# a nova posicao somada ao incremento\n",
    "\n",
    "alien_0['x_position'] = alien_0['x_position'] + x_increment\n",
    "print(\"New x-position:\" + str(alien_0['x_position']))\n",
    "\n",
    "# remove os pontos do alienigena\n",
    "del alien_0['points']"
   ]
  },
  {
   "cell_type": "code",
   "execution_count": null,
   "metadata": {},
   "outputs": [],
   "source": [
    "# percorrendo um dicionário\n",
    "\n",
    "\n",
    "user_0 = {'username': 'efermi', 'first': 'enrico', 'last': 'fermi'}\n",
    "for x, y in user_0.items():\n",
    "    print(\"Key:\" + x)\n",
    "    print(\"Value:\" + y)"
   ]
  },
  {
   "cell_type": "code",
   "execution_count": null,
   "metadata": {},
   "outputs": [],
   "source": [
    "# Percorrendo dicionário e ordenando a saida das keys\n",
    "\n",
    "user_0 = {'username': 'efermi', 'first': 'enrico', 'last':'fermi','name':'fermi'}\n",
    "for user in sorted(user_0):\n",
    "    print(user_0[user])\n"
   ]
  },
  {
   "cell_type": "code",
   "execution_count": null,
   "metadata": {},
   "outputs": [],
   "source": [
    "# Evitando resultados repetidos ao percorrer dicionário\n",
    "\n",
    "# Ao usar values() user se refere a valor\n",
    "# SET é para evitar resultados repetidos. \n",
    "\n",
    "user_0 = {'username': 'efermi', 'first': 'enrico', 'last':'fermi','name':'fermi'}\n",
    "for user in set(user_0.values()):\n",
    "    print(user)"
   ]
  },
  {
   "cell_type": "code",
   "execution_count": null,
   "metadata": {},
   "outputs": [],
   "source": [
    "\n",
    "# Dicionários dentro de listas\n",
    "\n",
    "alien_1 = {'color': 'yellow', 'points': 10}\n",
    "alien_2 = {'color': 'red', 'points': 10}\n",
    "alien_3 = {'color': 'green', 'points': 30}\n",
    "\n",
    "# lista que contem dicionário\n",
    "aliens = [alien_1, alien_2, alien_3]\n",
    "\n",
    "for alien in aliens:\n",
    "    print(alien)"
   ]
  },
  {
   "cell_type": "code",
   "execution_count": null,
   "metadata": {},
   "outputs": [],
   "source": [
    "\n",
    "# percorrendo listas dentro de dicionários\n",
    "\n",
    "alien_1 = {'color': 'yellow', 'points': 10}\n",
    "alien_2 = {'color': 'red', 'points': 10}\n",
    "alien_3 = {'color': 'green', 'points': 30}\n",
    "\n",
    "# lista que contem dicionário\n",
    "aliens = [alien_1, alien_2, alien_3]\n",
    "\n",
    "for alien in aliens:\n",
    "    print(alien)\n",
    "    print(alien['color'])"
   ]
  },
  {
   "cell_type": "code",
   "execution_count": null,
   "metadata": {},
   "outputs": [],
   "source": [
    "# usando for para criar dicionários dentro de uma lista\n",
    "\n",
    "aliens = []\n",
    "for alien_number in range(30):\n",
    "    new_alien = {'color': 'green', 'points': 5, 'speed': 'slow'}\n",
    "    aliens.append(new_alien)\n",
    "for alien in aliens[:5]:\n",
    "    print(alien)\n",
    "print(\"Total number of aliens: \" + str(len(aliens)))\n"
   ]
  },
  {
   "cell_type": "markdown",
   "metadata": {},
   "source": [
    "## loop while"
   ]
  },
  {
   "cell_type": "code",
   "execution_count": null,
   "metadata": {},
   "outputs": [],
   "source": [
    "# Usando uma flag para controlar um loop while\n",
    "\n",
    "prompt = \"\\n Diga alguma coisa e eu a repetirei pra você.\"\n",
    "prompt += \"\\n Digite sair e tecle enter para finalizar o programa\"\n",
    "# active é uma flag que verifica se o programa pode continuar executando\n",
    "active = True\n",
    "message = \"\"\n",
    "while active:\n",
    "    message = input(prompt)\n",
    "    \n",
    "    if message == 'sair':\n",
    "        active = False\n",
    "    else:\n",
    "        print(message)\n",
    "        "
   ]
  },
  {
   "cell_type": "code",
   "execution_count": null,
   "metadata": {},
   "outputs": [],
   "source": [
    "# Usando while para manipular e modificar listas e dicionários\n",
    "\n",
    "# Não é ideal usar o  loop for para adicionar ou excluir itens de listas \n",
    "\n",
    "\n",
    "confirmed_users = []\n",
    "unconfirmed_users = ['alice', 'brian','candace']\n",
    "\n",
    "while unconfirmed_users: \n",
    "    # pop deleta ultimo item e guarda na variavel\n",
    "    current_user = unconfirmed_users.pop()\n",
    "    print(\"verifying user: \" + current_user.title())\n",
    "    confirmed_users.append(current_user)\n",
    "print(\"The following users are confirmed:\")\n",
    "for confirmed_user in confirmed_users:\n",
    "    print(confirmed_user.title())\n"
   ]
  },
  {
   "cell_type": "code",
   "execution_count": null,
   "metadata": {},
   "outputs": [],
   "source": [
    "# Usando o while para deletar itens repetidos de uma lista ou dicionário\n",
    "\n",
    "pets = ['dog','cat','bird','zof','cat', 'rabbit', 'cat']\n",
    "while 'cat' in pets:\n",
    "    pets.remove('cat')\n",
    "print(pets)\n"
   ]
  },
  {
   "cell_type": "code",
   "execution_count": 6,
   "metadata": {},
   "outputs": [
    {
     "name": "stdout",
     "output_type": "stream",
     "text": [
      "Results:\n",
      "alan would like to climb a mountain everest.\n",
      "roger would like to climb a mountain k2.\n"
     ]
    }
   ],
   "source": [
    "# guardando e recuperando dados em um dicionário\n",
    "\n",
    "responses = {}\n",
    "negative_repeat = ['no', 'not', 'não', 'não','n','nt']\n",
    "\n",
    "# flag\n",
    "polling_active = True\n",
    "\n",
    "while polling_active:\n",
    "\n",
    "    name = input(\"\\nWhat's your name? \")\n",
    "    response = input(\"Wich mountain do you want to climb? \")\n",
    "    \n",
    "    # preenchendo chave e valor\n",
    "    responses[name] = response\n",
    "    \n",
    "    repeat = input(\"would you like another person to respond? (y/n) \")\n",
    "    if repeat in negative_repeat:\n",
    "        polling_active = False\n",
    "\n",
    "print(\"Results:\")\n",
    "\n",
    "# buscando chave e valor\n",
    "for name, response in responses.items():\n",
    "    print(name +  \" would like to climb a mountain \" +  response +  \".\") "
   ]
  },
  {
   "cell_type": "code",
   "execution_count": null,
   "metadata": {},
   "outputs": [],
   "source": []
  }
 ],
 "metadata": {
  "interpreter": {
   "hash": "916dbcbb3f70747c44a77c7bcd40155683ae19c65e1c03b4aa3499c5328201f1"
  },
  "kernelspec": {
   "display_name": "Python 3.8.10 64-bit",
   "language": "python",
   "name": "python3"
  },
  "language_info": {
   "codemirror_mode": {
    "name": "ipython",
    "version": 3
   },
   "file_extension": ".py",
   "mimetype": "text/x-python",
   "name": "python",
   "nbconvert_exporter": "python",
   "pygments_lexer": "ipython3",
   "version": "3.8.10"
  },
  "orig_nbformat": 4
 },
 "nbformat": 4,
 "nbformat_minor": 2
}
