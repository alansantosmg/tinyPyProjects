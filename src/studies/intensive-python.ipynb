{
 "cells": [
  {
   "cell_type": "code",
   "execution_count": null,
   "metadata": {},
   "outputs": [],
   "source": [
    "## Lists"
   ]
  },
  {
   "cell_type": "code",
   "execution_count": null,
   "metadata": {},
   "outputs": [
    {
     "data": {
      "text/plain": [
       "True"
      ]
     },
     "metadata": {},
     "output_type": "display_data"
    }
   ],
   "source": [
    "# Verificando se item não está na lista\n",
    "\n",
    "requested_toppings = ['mushrooms', 'onions', 'pineaple']\n",
    "'mushroons'not  in requested_toppings"
   ]
  },
  {
   "cell_type": "code",
   "execution_count": 1,
   "metadata": {},
   "outputs": [
    {
     "name": "stdout",
     "output_type": "stream",
     "text": [
      "Adding onions\n"
     ]
    }
   ],
   "source": [
    "# Percorrendo lista item a item a procura de 1 item especifico\n",
    "\n",
    "requested_toppings = ['mushrooms', 'onions', 'pineaple']\n",
    "for requested_topping in requested_toppings:\n",
    "    if requested_topping == 'onions': \n",
    "        print(\"Adding \" + requested_topping)"
   ]
  },
  {
   "cell_type": "code",
   "execution_count": null,
   "metadata": {},
   "outputs": [],
   "source": [
    "## Dicionários"
   ]
  },
  {
   "cell_type": "code",
   "execution_count": null,
   "metadata": {},
   "outputs": [],
   "source": [
    "# pg 113 - Modificando um dicionário\n",
    "alien_0 = {'color':'green', 'points':'5'}\n",
    "print(alien_0['color'])\n",
    "print(alien_0['points'])\n",
    "alien_0['x_position'] = 0\n",
    "alien_0['y_position'] = 25\n",
    "print(alien_0)\n",
    "alien_0['color'] = 'red'\n",
    "print(\"A cor do alien agora é\", alien_0['color'], \".\")\n"
   ]
  },
  {
   "cell_type": "code",
   "execution_count": null,
   "metadata": {},
   "outputs": [],
   "source": [
    "## Modificando dicionários\n",
    "\n",
    "alien_0 = {'x_position': 0, 'y_position': 25,'speed': 'medium', 'points': 5}\n",
    "print(\"Original x-position: \" + str(alien_0['x_position']))\n",
    "\n",
    "# move o alienigena para a direita\n",
    "# determina a distancia que o alienigena deve deslocar de acordo com sua\n",
    "# velocidade atual\n",
    "\n",
    "if alien_0['speed'] == 'slow': \n",
    "    x_increment = 1\n",
    "elif alien_0['speed'] == 'medium': \n",
    "    x_increment = 2\n",
    "else:\n",
    "    x_increment = 3\n",
    "\n",
    "# a nova posicao somada ao incremento\n",
    "\n",
    "alien_0['x_position'] = alien_0['x_position'] + x_increment\n",
    "print(\"New x-position:\" + str(alien_0['x_position']))\n",
    "\n",
    "# remove os pontos do alienigena\n",
    "del alien_0['points']"
   ]
  },
  {
   "cell_type": "code",
   "execution_count": null,
   "metadata": {},
   "outputs": [],
   "source": [
    "# percorrendo um dicionário\n",
    "\n",
    "\n",
    "user_0 = {'username': 'efermi', 'first': 'enrico', 'last': 'fermi'}\n",
    "for x, y in user_0.items():\n",
    "    print(\"Key:\" + x)\n",
    "    print(\"Value:\" + y)"
   ]
  },
  {
   "cell_type": "code",
   "execution_count": null,
   "metadata": {},
   "outputs": [],
   "source": [
    "# Percorrendo dicionário e ordenando a saida das keys\n",
    "\n",
    "user_0 = {'username': 'efermi', 'first': 'enrico', 'last':'fermi','name':'fermi'}\n",
    "for user in sorted(user_0):\n",
    "    print(user_0[user])\n"
   ]
  },
  {
   "cell_type": "code",
   "execution_count": null,
   "metadata": {},
   "outputs": [],
   "source": [
    "# Evitando resultados repetidos ao percorrer dicionário\n",
    "\n",
    "# Ao usar values() user se refere a valor\n",
    "# SET é para evitar resultados repetidos. \n",
    "\n",
    "user_0 = {'username': 'efermi', 'first': 'enrico', 'last':'fermi','name':'fermi'}\n",
    "for user in set(user_0.values()):\n",
    "    print(user)"
   ]
  },
  {
   "cell_type": "code",
   "execution_count": null,
   "metadata": {},
   "outputs": [],
   "source": [
    "\n",
    "# Dicionários dentro de listas\n",
    "\n",
    "alien_1 = {'color': 'yellow', 'points': 10}\n",
    "alien_2 = {'color': 'red', 'points': 10}\n",
    "alien_3 = {'color': 'green', 'points': 30}\n",
    "\n",
    "# lista que contem dicionário\n",
    "aliens = [alien_1, alien_2, alien_3]\n",
    "\n",
    "for alien in aliens:\n",
    "    print(alien)"
   ]
  },
  {
   "cell_type": "code",
   "execution_count": null,
   "metadata": {},
   "outputs": [],
   "source": [
    "\n",
    "# percorrendo listas dentro de dicionários\n",
    "\n",
    "alien_1 = {'color': 'yellow', 'points': 10}\n",
    "alien_2 = {'color': 'red', 'points': 10}\n",
    "alien_3 = {'color': 'green', 'points': 30}\n",
    "\n",
    "# lista que contem dicionário\n",
    "aliens = [alien_1, alien_2, alien_3]\n",
    "\n",
    "for alien in aliens:\n",
    "    print(alien)\n",
    "    print(alien['color'])"
   ]
  },
  {
   "cell_type": "code",
   "execution_count": null,
   "metadata": {},
   "outputs": [],
   "source": [
    "# usando for para criar dicionários dentro de uma lista\n",
    "\n",
    "aliens = []\n",
    "for alien_number in range(30):\n",
    "    new_alien = {'color': 'green', 'points': 5, 'speed': 'slow'}\n",
    "    aliens.append(new_alien)\n",
    "for alien in aliens[:5]:\n",
    "    print(alien)\n",
    "print(\"Total number of aliens: \" + str(len(aliens)))\n"
   ]
  },
  {
   "cell_type": "markdown",
   "metadata": {},
   "source": [
    "## loop while"
   ]
  },
  {
   "cell_type": "code",
   "execution_count": null,
   "metadata": {},
   "outputs": [],
   "source": [
    "# Usando uma flag para controlar um loop while\n",
    "\n",
    "prompt = \"\\n Diga alguma coisa e eu a repetirei pra você.\"\n",
    "prompt += \"\\n Digite sair e tecle enter para finalizar o programa\"\n",
    "# active é uma flag que verifica se o programa pode continuar executando\n",
    "active = True\n",
    "message = \"\"\n",
    "while active:\n",
    "    message = input(prompt)\n",
    "    \n",
    "    if message == 'sair':\n",
    "        active = False\n",
    "    else:\n",
    "        print(message)\n",
    "        "
   ]
  },
  {
   "cell_type": "code",
   "execution_count": null,
   "metadata": {},
   "outputs": [],
   "source": [
    "# Usando while para manipular e modificar listas e dicionários\n",
    "\n",
    "# Não é ideal usar o  loop for para adicionar ou excluir itens de listas \n",
    "\n",
    "\n",
    "confirmed_users = []\n",
    "unconfirmed_users = ['alice', 'brian','candace']\n",
    "\n",
    "while unconfirmed_users: \n",
    "    # pop deleta ultimo item e guarda na variavel\n",
    "    current_user = unconfirmed_users.pop()\n",
    "    print(\"verifying user: \" + current_user.title())\n",
    "    confirmed_users.append(current_user)\n",
    "print(\"The following users are confirmed:\")\n",
    "for confirmed_user in confirmed_users:\n",
    "    print(confirmed_user.title())\n"
   ]
  },
  {
   "cell_type": "code",
   "execution_count": null,
   "metadata": {},
   "outputs": [],
   "source": [
    "# Usando o while para deletar itens repetidos de uma lista ou dicionário\n",
    "\n",
    "pets = ['dog','cat','bird','zof','cat', 'rabbit', 'cat']\n",
    "while 'cat' in pets:\n",
    "    pets.remove('cat')\n",
    "print(pets)\n"
   ]
  }
 ],
 "metadata": {
  "interpreter": {
   "hash": "916dbcbb3f70747c44a77c7bcd40155683ae19c65e1c03b4aa3499c5328201f1"
  },
  "kernelspec": {
   "display_name": "Python 3.8.10 64-bit",
   "language": "python",
   "name": "python3"
  },
  "language_info": {
   "codemirror_mode": {
    "name": "ipython",
    "version": 3
   },
   "file_extension": ".py",
   "mimetype": "text/x-python",
   "name": "python",
   "nbconvert_exporter": "python",
   "pygments_lexer": "ipython3",
   "version": "3.8.10"
  },
  "orig_nbformat": 4
 },
 "nbformat": 4,
 "nbformat_minor": 2
}
